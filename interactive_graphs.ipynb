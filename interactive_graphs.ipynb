{
 "cells": [
  {
   "cell_type": "code",
   "execution_count": 1,
   "metadata": {},
   "outputs": [],
   "source": [
    "import pandas as pd\n",
    "from dash import Dash, dcc, html, dash_table\n",
    "import plotly.express as px\n",
    "import plotly.graph_objects as go\n",
    "import numpy as np"
   ]
  },
  {
   "cell_type": "code",
   "execution_count": 13,
   "metadata": {},
   "outputs": [],
   "source": [
    "df = pd.read_csv('fig2.csv')"
   ]
  },
  {
   "cell_type": "code",
   "execution_count": 3,
   "metadata": {},
   "outputs": [],
   "source": [
    "# from https://colab.research.google.com/drive/1Z6AgGpPpnGY43DT58vl_Wvqmyw-KRfqY?usp=sharing#scrollTo=865d29bf\n",
    "def line_plot(\n",
    "    df: pd.DataFrame,\n",
    "    log_y: bool = True,\n",
    "    title: str = \"Residual Stream Norm by Layer Number\",\n",
    "    color: str = \"Prompt\",\n",
    "    legend_title_text: str = \"Prompt\",\n",
    ") -> go.Figure:\n",
    "    \"\"\"Make a line plot of the RichPrompt norm. If log_y is True,\n",
    "    adds a column to the dataframe with the log10 of the norm.\"\"\"\n",
    "    for col in [\"Prompt\", \"Activation Location\", \"Magnitude\"]:\n",
    "        assert col in df.columns, f\"Column {col} not in dataframe\"\n",
    "\n",
    "    if log_y:\n",
    "        df[\"LogMagnitude\"] = np.log10(df[\"Magnitude\"])\n",
    "\n",
    "    fig = px.line(\n",
    "        df,\n",
    "        x=\"Activation Location\",\n",
    "        y=\"LogMagnitude\" if log_y else \"Magnitude\",\n",
    "        color=color,\n",
    "        color_discrete_sequence=px.colors.sequential.Rainbow[::-1],\n",
    "    )\n",
    "\n",
    "    fig.update_layout(\n",
    "        legend_title_text=legend_title_text,\n",
    "        title=title,\n",
    "        xaxis_title=\"Layer Number\",\n",
    "        yaxis_title=f\"Norm{' (log 10)' if log_y else ''}\",\n",
    "    )\n",
    "\n",
    "    return fig\n",
    "\n"
   ]
  },
  {
   "cell_type": "code",
   "execution_count": 6,
   "metadata": {},
   "outputs": [],
   "source": [
    "model_name = \"gpt2-xl\"\n",
    "figs = []\n",
    "for use_log in (True, False):\n",
    "    fig = line_plot(\n",
    "        df,\n",
    "        log_y=use_log,\n",
    "        title=f\"Residual Stream Norm by Layer Number in {model_name}\",\n",
    "        color=\"Token\",\n",
    "        legend_title_text=\"Token\"\n",
    "    )\n",
    "    fig.update_layout(width=600, height=450)\n",
    "    figs.append(fig)"
   ]
  },
  {
   "cell_type": "code",
   "execution_count": 15,
   "metadata": {},
   "outputs": [
    {
     "data": {
      "text/html": [
       "\n",
       "        <iframe\n",
       "            width=\"100%\"\n",
       "            height=\"650\"\n",
       "            src=\"http://127.0.0.1:8050/\"\n",
       "            frameborder=\"0\"\n",
       "            allowfullscreen\n",
       "            \n",
       "        ></iframe>\n",
       "        "
      ],
      "text/plain": [
       "<IPython.lib.display.IFrame at 0x132c91e20>"
      ]
     },
     "metadata": {},
     "output_type": "display_data"
    }
   ],
   "source": [
    "# Initialize the app\n",
    "app = Dash()\n",
    "\n",
    "# App layout\n",
    "app.layout = html.Div(children=[\n",
    "        dcc.Graph(figure=figs[0]),\n",
    "        dcc.Graph(figure=figs[1]),\n",
    "    ],\n",
    "    style={'display': 'flex', }\n",
    ")\n",
    "\n",
    "# Run the app\n",
    "if __name__ == '__main__':\n",
    "    app.run(debug=True)"
   ]
  },
  {
   "cell_type": "code",
   "execution_count": null,
   "metadata": {},
   "outputs": [],
   "source": []
  }
 ],
 "metadata": {
  "kernelspec": {
   "display_name": ".venv",
   "language": "python",
   "name": "python3"
  },
  "language_info": {
   "codemirror_mode": {
    "name": "ipython",
    "version": 3
   },
   "file_extension": ".py",
   "mimetype": "text/x-python",
   "name": "python",
   "nbconvert_exporter": "python",
   "pygments_lexer": "ipython3",
   "version": "3.12.2"
  }
 },
 "nbformat": 4,
 "nbformat_minor": 2
}
